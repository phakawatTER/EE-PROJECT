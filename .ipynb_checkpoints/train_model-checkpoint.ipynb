{
 "cells": [
  {
   "cell_type": "code",
   "execution_count": 1,
   "metadata": {
    "scrolled": false
   },
   "outputs": [],
   "source": [
    "import pandas as pd\n",
    "import model\n",
    "import argparse\n",
    "from tensorflow.keras.callbacks import History, ModelCheckpoint\n",
    "from tensorflow.keras.optimizers import Adam\n",
    "from sklearn import preprocessing\n",
    "from matplotlib import pyplot as plt\n",
    "import os\n",
    "import numpy as np"
   ]
  },
  {
   "cell_type": "code",
   "execution_count": 2,
   "metadata": {},
   "outputs": [],
   "source": [
    "file_path = \"training_set.csv\"\n",
    "df = pd.read_csv(file_path)\n",
    "data = df.values\n"
   ]
  },
  {
   "cell_type": "code",
   "execution_count": 3,
   "metadata": {},
   "outputs": [
    {
     "data": {
      "text/html": [
       "<div>\n",
       "<style scoped>\n",
       "    .dataframe tbody tr th:only-of-type {\n",
       "        vertical-align: middle;\n",
       "    }\n",
       "\n",
       "    .dataframe tbody tr th {\n",
       "        vertical-align: top;\n",
       "    }\n",
       "\n",
       "    .dataframe thead th {\n",
       "        text-align: right;\n",
       "    }\n",
       "</style>\n",
       "<table border=\"1\" class=\"dataframe\">\n",
       "  <thead>\n",
       "    <tr style=\"text-align: right;\">\n",
       "      <th></th>\n",
       "      <th>day</th>\n",
       "      <th>order_in_month</th>\n",
       "      <th>month</th>\n",
       "      <th>year</th>\n",
       "      <th>hour</th>\n",
       "      <th>minute</th>\n",
       "      <th>load</th>\n",
       "    </tr>\n",
       "  </thead>\n",
       "  <tbody>\n",
       "    <tr>\n",
       "      <th>0</th>\n",
       "      <td>0</td>\n",
       "      <td>2.0</td>\n",
       "      <td>0</td>\n",
       "      <td>2017</td>\n",
       "      <td>0.0</td>\n",
       "      <td>0.0</td>\n",
       "      <td>81.24</td>\n",
       "    </tr>\n",
       "    <tr>\n",
       "      <th>1</th>\n",
       "      <td>0</td>\n",
       "      <td>3.0</td>\n",
       "      <td>0</td>\n",
       "      <td>2017</td>\n",
       "      <td>0.0</td>\n",
       "      <td>0.0</td>\n",
       "      <td>81.24</td>\n",
       "    </tr>\n",
       "    <tr>\n",
       "      <th>2</th>\n",
       "      <td>0</td>\n",
       "      <td>0.0</td>\n",
       "      <td>0</td>\n",
       "      <td>2016</td>\n",
       "      <td>0.0</td>\n",
       "      <td>0.0</td>\n",
       "      <td>66.32</td>\n",
       "    </tr>\n",
       "    <tr>\n",
       "      <th>3</th>\n",
       "      <td>0</td>\n",
       "      <td>0.0</td>\n",
       "      <td>0</td>\n",
       "      <td>2017</td>\n",
       "      <td>0.0</td>\n",
       "      <td>0.0</td>\n",
       "      <td>88.86</td>\n",
       "    </tr>\n",
       "    <tr>\n",
       "      <th>4</th>\n",
       "      <td>0</td>\n",
       "      <td>3.0</td>\n",
       "      <td>0</td>\n",
       "      <td>2017</td>\n",
       "      <td>0.0</td>\n",
       "      <td>15.0</td>\n",
       "      <td>80.99</td>\n",
       "    </tr>\n",
       "  </tbody>\n",
       "</table>\n",
       "</div>"
      ],
      "text/plain": [
       "   day  order_in_month  month  year  hour  minute   load\n",
       "0    0             2.0      0  2017   0.0     0.0  81.24\n",
       "1    0             3.0      0  2017   0.0     0.0  81.24\n",
       "2    0             0.0      0  2016   0.0     0.0  66.32\n",
       "3    0             0.0      0  2017   0.0     0.0  88.86\n",
       "4    0             3.0      0  2017   0.0    15.0  80.99"
      ]
     },
     "execution_count": 3,
     "metadata": {},
     "output_type": "execute_result"
    }
   ],
   "source": [
    "df.head()"
   ]
  },
  {
   "cell_type": "code",
   "execution_count": 5,
   "metadata": {},
   "outputs": [],
   "source": [
    "Y = df[\"load\"].values.reshape(-1,1) # training label\n",
    "X = df[df.columns[:-1]].values.reshape(-1,6)  # training data"
   ]
  },
  {
   "cell_type": "code",
   "execution_count": 6,
   "metadata": {},
   "outputs": [
    {
     "data": {
      "text/plain": [
       "array([[81.24],\n",
       "       [81.24],\n",
       "       [66.32],\n",
       "       ...,\n",
       "       [80.32],\n",
       "       [92.37],\n",
       "       [80.99]])"
      ]
     },
     "execution_count": 6,
     "metadata": {},
     "output_type": "execute_result"
    }
   ],
   "source": [
    "Y"
   ]
  },
  {
   "cell_type": "code",
   "execution_count": 7,
   "metadata": {},
   "outputs": [
    {
     "data": {
      "text/plain": [
       "array([[0.000e+00, 2.000e+00, 0.000e+00, 2.017e+03, 0.000e+00, 0.000e+00],\n",
       "       [0.000e+00, 3.000e+00, 0.000e+00, 2.017e+03, 0.000e+00, 0.000e+00],\n",
       "       [0.000e+00, 0.000e+00, 0.000e+00, 2.016e+03, 0.000e+00, 0.000e+00],\n",
       "       ...,\n",
       "       [6.000e+00, 3.000e+00, 1.100e+01, 2.017e+03, 2.300e+01, 4.500e+01],\n",
       "       [6.000e+00, 0.000e+00, 1.100e+01, 2.017e+03, 2.300e+01, 4.500e+01],\n",
       "       [6.000e+00, 2.000e+00, 1.100e+01, 2.017e+03, 2.300e+01, 4.500e+01]])"
      ]
     },
     "execution_count": 7,
     "metadata": {},
     "output_type": "execute_result"
    }
   ],
   "source": [
    "X"
   ]
  },
  {
   "cell_type": "code",
   "execution_count": 8,
   "metadata": {},
   "outputs": [],
   "source": [
    "from sklearn.model_selection import train_test_split"
   ]
  },
  {
   "cell_type": "code",
   "execution_count": 9,
   "metadata": {},
   "outputs": [],
   "source": [
    "X_train, X_test, y_train, y_test = train_test_split(\n",
    "    X, Y, test_size=0.15, shuffle=True)"
   ]
  },
  {
   "cell_type": "code",
   "execution_count": null,
   "metadata": {},
   "outputs": [],
   "source": []
  },
  {
   "cell_type": "code",
   "execution_count": null,
   "metadata": {},
   "outputs": [],
   "source": []
  },
  {
   "cell_type": "code",
   "execution_count": 10,
   "metadata": {},
   "outputs": [],
   "source": [
    "from tensorflow.keras.preprocessing.sequence import TimeseriesGenerator\n",
    "from tensorflow.keras.models import Sequential\n",
    "from tensorflow.keras.layers import Dense\n",
    "from tensorflow.keras.layers import LSTM\n",
    "from tensorflow.keras.layers import Dropout\n",
    "from tensorflow.keras.optimizers import SGD,Adam"
   ]
  },
  {
   "cell_type": "code",
   "execution_count": 11,
   "metadata": {},
   "outputs": [],
   "source": [
    "model = Sequential()\n",
    "\n",
    "model.add(Dense(300,\n",
    "                activation='relu',\n",
    "                input_shape = X_train.shape[1:]))\n",
    "\n",
    "model.add(Dense(90,\n",
    "                activation='relu'))\n",
    "model.add(Dropout(0.2))\n",
    "\n",
    "model.add(Dense(30,\n",
    "                activation='relu'))\n",
    "model.add(Dropout(0.2))\n",
    "\n",
    "model.add(Dense(7,\n",
    "                activation='relu'))\n",
    "model.add(Dropout(0.2))\n",
    "\n",
    "model.add(Dense(1,\n",
    "                activation='linear'))\n",
    "\n"
   ]
  },
  {
   "cell_type": "code",
   "execution_count": 12,
   "metadata": {},
   "outputs": [],
   "source": [
    "epochs = 200\n",
    "checkpoint_file = \"checkpoint/c.hdf5\"\n",
    "model_file = \"model/m.h5\""
   ]
  },
  {
   "cell_type": "code",
   "execution_count": 13,
   "metadata": {},
   "outputs": [],
   "source": [
    "optimizer = Adam(0.001)\n",
    "model.compile(optimizer=optimizer,\n",
    "              loss='mse')"
   ]
  },
  {
   "cell_type": "code",
   "execution_count": 78,
   "metadata": {},
   "outputs": [],
   "source": [
    "model_checkpoint = ModelCheckpoint(filepath=checkpoint_file,save_best_only=True)"
   ]
  },
  {
   "cell_type": "code",
   "execution_count": 79,
   "metadata": {
    "scrolled": false
   },
   "outputs": [
    {
     "name": "stdout",
     "output_type": "stream",
     "text": [
      "Train on 5816 samples, validate on 1027 samples\n",
      "Epoch 1/200\n",
      "5816/5816 [==============================] - 1s 245us/sample - loss: 528.7948 - val_loss: 127.2072\n",
      "Epoch 2/200\n",
      "5816/5816 [==============================] - 0s 49us/sample - loss: 540.2994 - val_loss: 121.9588\n",
      "Epoch 3/200\n",
      "5816/5816 [==============================] - 0s 55us/sample - loss: 551.3213 - val_loss: 129.5814\n",
      "Epoch 4/200\n",
      "5816/5816 [==============================] - 0s 44us/sample - loss: 550.9792 - val_loss: 124.3489\n",
      "Epoch 5/200\n",
      "5816/5816 [==============================] - 0s 45us/sample - loss: 550.0929 - val_loss: 149.7663\n",
      "Epoch 6/200\n",
      "5816/5816 [==============================] - 0s 49us/sample - loss: 549.0531 - val_loss: 144.8650\n",
      "Epoch 7/200\n",
      "5816/5816 [==============================] - 0s 44us/sample - loss: 538.3284 - val_loss: 129.4755\n",
      "Epoch 8/200\n",
      "5816/5816 [==============================] - 0s 57us/sample - loss: 528.5526 - val_loss: 126.4851\n",
      "Epoch 9/200\n",
      "5816/5816 [==============================] - 0s 59us/sample - loss: 535.0459 - val_loss: 122.2778\n",
      "Epoch 10/200\n",
      "5816/5816 [==============================] - 0s 69us/sample - loss: 543.6058 - val_loss: 121.1588\n",
      "Epoch 11/200\n",
      "5816/5816 [==============================] - 0s 59us/sample - loss: 543.3916 - val_loss: 120.1020\n",
      "Epoch 12/200\n",
      "5816/5816 [==============================] - 0s 49us/sample - loss: 529.7454 - val_loss: 117.5724\n",
      "Epoch 13/200\n",
      "5816/5816 [==============================] - 0s 46us/sample - loss: 542.9719 - val_loss: 120.5526\n",
      "Epoch 14/200\n",
      "5816/5816 [==============================] - 0s 49us/sample - loss: 551.8169 - val_loss: 132.4872\n",
      "Epoch 15/200\n",
      "5816/5816 [==============================] - 0s 53us/sample - loss: 549.3965 - val_loss: 126.8547\n",
      "Epoch 16/200\n",
      "5816/5816 [==============================] - 0s 51us/sample - loss: 524.2699 - val_loss: 129.7368\n",
      "Epoch 17/200\n",
      "5816/5816 [==============================] - 0s 58us/sample - loss: 536.8953 - val_loss: 151.4972\n",
      "Epoch 18/200\n",
      "5816/5816 [==============================] - 0s 53us/sample - loss: 528.7657 - val_loss: 125.4285\n",
      "Epoch 19/200\n",
      "5816/5816 [==============================] - 0s 66us/sample - loss: 533.9309 - val_loss: 138.9857\n",
      "Epoch 20/200\n",
      "5816/5816 [==============================] - 0s 41us/sample - loss: 507.7860 - val_loss: 124.4884\n",
      "Epoch 21/200\n",
      "5816/5816 [==============================] - 0s 51us/sample - loss: 526.2670 - val_loss: 123.0351\n",
      "Epoch 22/200\n",
      "5816/5816 [==============================] - 0s 53us/sample - loss: 506.7897 - val_loss: 132.2455\n",
      "Epoch 23/200\n",
      "5816/5816 [==============================] - 0s 66us/sample - loss: 513.1888 - val_loss: 115.9569\n",
      "Epoch 24/200\n",
      "5816/5816 [==============================] - 0s 58us/sample - loss: 512.4384 - val_loss: 124.0444\n",
      "Epoch 25/200\n",
      "5816/5816 [==============================] - 0s 47us/sample - loss: 524.0439 - val_loss: 118.8442\n",
      "Epoch 26/200\n",
      "5816/5816 [==============================] - 0s 48us/sample - loss: 511.3555 - val_loss: 136.3543\n",
      "Epoch 27/200\n",
      "5816/5816 [==============================] - 0s 46us/sample - loss: 511.7994 - val_loss: 126.5431\n",
      "Epoch 28/200\n",
      "5816/5816 [==============================] - 0s 60us/sample - loss: 512.3988 - val_loss: 114.5469\n",
      "Epoch 29/200\n",
      "5816/5816 [==============================] - 0s 47us/sample - loss: 496.2764 - val_loss: 145.7650\n",
      "Epoch 30/200\n",
      "5816/5816 [==============================] - 0s 66us/sample - loss: 501.0218 - val_loss: 140.0927\n",
      "Epoch 31/200\n",
      "5816/5816 [==============================] - 0s 48us/sample - loss: 511.0690 - val_loss: 115.4920\n",
      "Epoch 32/200\n",
      "5816/5816 [==============================] - 0s 48us/sample - loss: 510.1113 - val_loss: 162.2076\n",
      "Epoch 33/200\n",
      "5816/5816 [==============================] - 0s 50us/sample - loss: 519.4042 - val_loss: 126.1451\n",
      "Epoch 34/200\n",
      "5816/5816 [==============================] - 0s 55us/sample - loss: 509.7442 - val_loss: 129.5804\n",
      "Epoch 35/200\n",
      "5816/5816 [==============================] - 0s 59us/sample - loss: 487.0868 - val_loss: 111.4067\n",
      "Epoch 36/200\n",
      "5816/5816 [==============================] - 0s 69us/sample - loss: 483.6549 - val_loss: 145.1744\n",
      "Epoch 37/200\n",
      "5816/5816 [==============================] - 0s 65us/sample - loss: 495.4243 - val_loss: 132.1147\n",
      "Epoch 38/200\n",
      "5816/5816 [==============================] - 0s 63us/sample - loss: 491.4173 - val_loss: 111.2092\n",
      "Epoch 39/200\n",
      "5816/5816 [==============================] - 0s 66us/sample - loss: 485.9538 - val_loss: 120.9432\n",
      "Epoch 40/200\n",
      "5816/5816 [==============================] - 0s 56us/sample - loss: 492.2003 - val_loss: 121.0531\n",
      "Epoch 41/200\n",
      "5816/5816 [==============================] - 0s 53us/sample - loss: 499.1341 - val_loss: 115.7880\n",
      "Epoch 42/200\n",
      "5816/5816 [==============================] - 0s 48us/sample - loss: 498.9394 - val_loss: 108.8972\n",
      "Epoch 43/200\n",
      "5816/5816 [==============================] - 0s 65us/sample - loss: 484.8885 - val_loss: 107.1019\n",
      "Epoch 44/200\n",
      "5816/5816 [==============================] - 0s 49us/sample - loss: 495.3003 - val_loss: 106.1316\n",
      "Epoch 45/200\n",
      "5816/5816 [==============================] - 0s 46us/sample - loss: 476.9353 - val_loss: 107.9752\n",
      "Epoch 46/200\n",
      "5816/5816 [==============================] - 0s 54us/sample - loss: 499.3588 - val_loss: 102.3977\n",
      "Epoch 47/200\n",
      "5816/5816 [==============================] - 0s 60us/sample - loss: 466.2977 - val_loss: 100.3661\n",
      "Epoch 48/200\n",
      "5816/5816 [==============================] - 0s 52us/sample - loss: 466.1772 - val_loss: 128.5518\n",
      "Epoch 49/200\n",
      "5816/5816 [==============================] - 0s 60us/sample - loss: 475.1343 - val_loss: 110.4023\n",
      "Epoch 50/200\n",
      "5816/5816 [==============================] - 0s 57us/sample - loss: 456.1292 - val_loss: 96.6727\n",
      "Epoch 51/200\n",
      "5816/5816 [==============================] - 0s 58us/sample - loss: 468.0192 - val_loss: 106.8516\n",
      "Epoch 52/200\n",
      "5816/5816 [==============================] - 0s 48us/sample - loss: 468.6507 - val_loss: 110.6782\n",
      "Epoch 53/200\n",
      "5816/5816 [==============================] - 0s 47us/sample - loss: 454.6295 - val_loss: 171.2043\n",
      "Epoch 54/200\n",
      "5816/5816 [==============================] - 0s 49us/sample - loss: 471.4702 - val_loss: 192.3397\n",
      "Epoch 55/200\n",
      "5816/5816 [==============================] - 0s 59us/sample - loss: 481.1617 - val_loss: 115.1337\n",
      "Epoch 56/200\n",
      "5816/5816 [==============================] - 0s 58us/sample - loss: 453.8298 - val_loss: 102.3792\n",
      "Epoch 57/200\n",
      "5816/5816 [==============================] - 0s 50us/sample - loss: 461.5034 - val_loss: 120.2426\n",
      "Epoch 58/200\n",
      "5816/5816 [==============================] - 0s 51us/sample - loss: 451.3440 - val_loss: 106.4140\n",
      "Epoch 59/200\n",
      "5816/5816 [==============================] - 0s 49us/sample - loss: 436.6456 - val_loss: 113.3267\n",
      "Epoch 60/200\n",
      "5816/5816 [==============================] - 0s 52us/sample - loss: 445.0551 - val_loss: 134.0637\n",
      "Epoch 61/200\n",
      "5816/5816 [==============================] - 0s 47us/sample - loss: 447.4921 - val_loss: 116.6020\n",
      "Epoch 62/200\n",
      "5816/5816 [==============================] - 0s 58us/sample - loss: 442.6051 - val_loss: 68.5640\n",
      "Epoch 63/200\n",
      "5816/5816 [==============================] - 0s 67us/sample - loss: 448.6178 - val_loss: 104.8416\n",
      "Epoch 64/200\n",
      "5816/5816 [==============================] - 0s 66us/sample - loss: 441.3401 - val_loss: 108.2891\n",
      "Epoch 65/200\n",
      "5816/5816 [==============================] - 0s 47us/sample - loss: 432.6228 - val_loss: 80.5483\n",
      "Epoch 66/200\n",
      "5816/5816 [==============================] - 0s 48us/sample - loss: 426.2683 - val_loss: 90.4764\n",
      "Epoch 67/200\n",
      "5816/5816 [==============================] - 0s 49us/sample - loss: 435.5737 - val_loss: 78.9679\n",
      "Epoch 68/200\n",
      "5816/5816 [==============================] - 0s 55us/sample - loss: 430.9831 - val_loss: 100.7712\n",
      "Epoch 69/200\n",
      "5816/5816 [==============================] - 0s 69us/sample - loss: 446.7683 - val_loss: 88.5968\n",
      "Epoch 70/200\n",
      "5816/5816 [==============================] - 0s 69us/sample - loss: 443.1983 - val_loss: 98.4167\n",
      "Epoch 71/200\n",
      "5816/5816 [==============================] - 0s 71us/sample - loss: 422.5374 - val_loss: 91.6710\n",
      "Epoch 72/200\n",
      "5816/5816 [==============================] - 0s 59us/sample - loss: 435.2248 - val_loss: 87.9457\n",
      "Epoch 73/200\n",
      "5816/5816 [==============================] - 0s 63us/sample - loss: 418.4186 - val_loss: 96.0656\n",
      "Epoch 74/200\n",
      "5816/5816 [==============================] - 0s 62us/sample - loss: 417.9343 - val_loss: 81.9366\n",
      "Epoch 75/200\n",
      "5816/5816 [==============================] - 0s 50us/sample - loss: 421.2661 - val_loss: 94.2749\n",
      "Epoch 76/200\n",
      "5816/5816 [==============================] - 0s 41us/sample - loss: 423.5742 - val_loss: 89.8514\n",
      "Epoch 77/200\n",
      "5816/5816 [==============================] - 0s 44us/sample - loss: 402.3749 - val_loss: 93.7225\n",
      "Epoch 78/200\n",
      "5816/5816 [==============================] - 0s 56us/sample - loss: 419.3411 - val_loss: 137.0768\n",
      "Epoch 79/200\n",
      "5816/5816 [==============================] - 0s 52us/sample - loss: 403.2603 - val_loss: 117.9878\n",
      "Epoch 80/200\n",
      "5816/5816 [==============================] - 0s 56us/sample - loss: 409.4209 - val_loss: 159.8860\n",
      "Epoch 81/200\n",
      "5816/5816 [==============================] - 0s 52us/sample - loss: 435.1975 - val_loss: 83.3625\n",
      "Epoch 82/200\n",
      "5816/5816 [==============================] - 0s 56us/sample - loss: 397.8860 - val_loss: 116.9570\n",
      "Epoch 83/200\n",
      "5816/5816 [==============================] - 0s 54us/sample - loss: 405.3930 - val_loss: 62.0796\n",
      "Epoch 84/200\n",
      "5816/5816 [==============================] - 0s 49us/sample - loss: 402.2832 - val_loss: 107.2461\n",
      "Epoch 85/200\n",
      "5816/5816 [==============================] - 0s 52us/sample - loss: 411.6108 - val_loss: 113.1573\n",
      "Epoch 86/200\n",
      "5816/5816 [==============================] - 0s 46us/sample - loss: 409.4183 - val_loss: 102.3422\n",
      "Epoch 87/200\n",
      "5816/5816 [==============================] - 0s 46us/sample - loss: 400.5388 - val_loss: 96.5470\n",
      "Epoch 88/200\n",
      "5816/5816 [==============================] - 0s 56us/sample - loss: 412.4882 - val_loss: 86.5242\n",
      "Epoch 89/200\n",
      "5816/5816 [==============================] - 0s 67us/sample - loss: 412.4483 - val_loss: 56.0374\n",
      "Epoch 90/200\n",
      "5816/5816 [==============================] - 0s 56us/sample - loss: 393.6633 - val_loss: 82.9677\n",
      "Epoch 91/200\n",
      "5816/5816 [==============================] - 0s 55us/sample - loss: 407.7742 - val_loss: 73.9324\n",
      "Epoch 92/200\n",
      "5816/5816 [==============================] - 0s 54us/sample - loss: 394.5494 - val_loss: 116.1960\n",
      "Epoch 93/200\n",
      "5816/5816 [==============================] - 0s 52us/sample - loss: 398.7168 - val_loss: 68.0277\n",
      "Epoch 94/200\n",
      "5816/5816 [==============================] - 0s 60us/sample - loss: 404.2036 - val_loss: 112.0426\n",
      "Epoch 95/200\n",
      "5816/5816 [==============================] - 0s 63us/sample - loss: 412.2848 - val_loss: 56.5174\n",
      "Epoch 96/200\n",
      "5816/5816 [==============================] - 0s 47us/sample - loss: 412.7635 - val_loss: 89.7685\n",
      "Epoch 97/200\n",
      "5816/5816 [==============================] - 0s 51us/sample - loss: 404.7742 - val_loss: 62.3561\n",
      "Epoch 98/200\n",
      "5816/5816 [==============================] - 0s 51us/sample - loss: 367.8700 - val_loss: 72.4314\n",
      "Epoch 99/200\n",
      "5816/5816 [==============================] - 0s 54us/sample - loss: 380.9550 - val_loss: 108.7121\n",
      "Epoch 100/200\n",
      "5816/5816 [==============================] - 0s 69us/sample - loss: 368.9313 - val_loss: 92.5402\n",
      "Epoch 101/200\n",
      "5816/5816 [==============================] - 0s 55us/sample - loss: 382.3719 - val_loss: 80.5380\n",
      "Epoch 102/200\n",
      "5816/5816 [==============================] - 0s 48us/sample - loss: 361.8183 - val_loss: 116.9277\n",
      "Epoch 103/200\n",
      "5816/5816 [==============================] - 0s 48us/sample - loss: 370.0764 - val_loss: 86.0750\n",
      "Epoch 104/200\n",
      "5816/5816 [==============================] - 0s 56us/sample - loss: 375.4640 - val_loss: 90.0997\n",
      "Epoch 105/200\n",
      "5816/5816 [==============================] - 0s 55us/sample - loss: 391.9386 - val_loss: 93.6174\n",
      "Epoch 106/200\n",
      "5816/5816 [==============================] - 0s 44us/sample - loss: 384.3067 - val_loss: 56.7803\n",
      "Epoch 107/200\n",
      "5816/5816 [==============================] - 0s 55us/sample - loss: 386.7666 - val_loss: 67.5184\n",
      "Epoch 108/200\n",
      "5816/5816 [==============================] - 0s 52us/sample - loss: 380.6879 - val_loss: 67.5640\n",
      "Epoch 109/200\n",
      "5816/5816 [==============================] - 0s 50us/sample - loss: 393.2652 - val_loss: 76.0092\n",
      "Epoch 110/200\n",
      "5816/5816 [==============================] - 0s 53us/sample - loss: 366.7475 - val_loss: 59.4511\n",
      "Epoch 111/200\n",
      "5816/5816 [==============================] - 0s 55us/sample - loss: 364.0166 - val_loss: 53.0015\n",
      "Epoch 112/200\n",
      "5816/5816 [==============================] - 0s 46us/sample - loss: 371.5176 - val_loss: 111.5494\n",
      "Epoch 113/200\n",
      "5816/5816 [==============================] - 0s 47us/sample - loss: 369.0523 - val_loss: 101.4427\n",
      "Epoch 114/200\n",
      "5816/5816 [==============================] - 0s 58us/sample - loss: 377.8429 - val_loss: 86.9027\n",
      "Epoch 115/200\n",
      "5816/5816 [==============================] - 0s 56us/sample - loss: 368.2269 - val_loss: 79.0325\n",
      "Epoch 116/200\n",
      "5816/5816 [==============================] - 0s 58us/sample - loss: 367.8186 - val_loss: 50.1941\n",
      "Epoch 117/200\n",
      "5816/5816 [==============================] - 0s 46us/sample - loss: 358.4906 - val_loss: 53.6467\n",
      "Epoch 118/200\n",
      "5816/5816 [==============================] - 0s 55us/sample - loss: 349.5706 - val_loss: 79.5992\n",
      "Epoch 119/200\n",
      "5816/5816 [==============================] - 0s 42us/sample - loss: 355.3792 - val_loss: 70.1593\n",
      "Epoch 120/200\n",
      "5816/5816 [==============================] - 0s 47us/sample - loss: 357.1883 - val_loss: 112.0372\n",
      "Epoch 121/200\n",
      "5816/5816 [==============================] - 0s 66us/sample - loss: 363.2301 - val_loss: 105.7555\n",
      "Epoch 122/200\n",
      "5816/5816 [==============================] - 0s 63us/sample - loss: 355.8876 - val_loss: 96.6780\n",
      "Epoch 123/200\n",
      "5816/5816 [==============================] - 0s 63us/sample - loss: 363.1315 - val_loss: 60.4777\n",
      "Epoch 124/200\n",
      "5816/5816 [==============================] - 0s 58us/sample - loss: 358.6713 - val_loss: 62.6196\n",
      "Epoch 125/200\n",
      "5816/5816 [==============================] - 0s 58us/sample - loss: 362.8375 - val_loss: 71.0462\n",
      "Epoch 126/200\n",
      "5816/5816 [==============================] - 0s 82us/sample - loss: 357.5597 - val_loss: 47.4412\n",
      "Epoch 127/200\n",
      "5816/5816 [==============================] - 0s 72us/sample - loss: 355.8503 - val_loss: 87.1701\n",
      "Epoch 128/200\n",
      "5816/5816 [==============================] - 0s 66us/sample - loss: 345.8614 - val_loss: 107.3481\n",
      "Epoch 129/200\n",
      "5816/5816 [==============================] - 0s 70us/sample - loss: 358.9396 - val_loss: 64.1768\n",
      "Epoch 130/200\n",
      "5816/5816 [==============================] - 0s 49us/sample - loss: 344.3268 - val_loss: 50.5666\n",
      "Epoch 131/200\n",
      "5816/5816 [==============================] - 0s 46us/sample - loss: 344.3643 - val_loss: 61.1754\n",
      "Epoch 132/200\n",
      "5816/5816 [==============================] - 0s 56us/sample - loss: 346.1452 - val_loss: 52.2692\n",
      "Epoch 133/200\n",
      "5816/5816 [==============================] - 0s 46us/sample - loss: 344.5960 - val_loss: 53.0558\n",
      "Epoch 134/200\n",
      "5816/5816 [==============================] - 0s 50us/sample - loss: 348.1953 - val_loss: 44.0795\n",
      "Epoch 135/200\n",
      "5816/5816 [==============================] - 0s 52us/sample - loss: 342.7518 - val_loss: 72.2315\n",
      "Epoch 136/200\n",
      "5816/5816 [==============================] - 0s 53us/sample - loss: 332.0066 - val_loss: 83.0281\n",
      "Epoch 137/200\n",
      "5816/5816 [==============================] - 0s 49us/sample - loss: 341.2353 - val_loss: 62.9664\n",
      "Epoch 138/200\n",
      "5816/5816 [==============================] - 0s 59us/sample - loss: 329.3313 - val_loss: 85.5691\n",
      "Epoch 139/200\n",
      "5816/5816 [==============================] - 0s 55us/sample - loss: 328.4687 - val_loss: 55.9590\n",
      "Epoch 140/200\n",
      "5816/5816 [==============================] - 0s 51us/sample - loss: 340.8846 - val_loss: 52.0185\n",
      "Epoch 141/200\n",
      "5816/5816 [==============================] - 0s 51us/sample - loss: 332.0024 - val_loss: 63.7142\n",
      "Epoch 142/200\n",
      "5816/5816 [==============================] - 0s 51us/sample - loss: 325.8548 - val_loss: 57.7730\n",
      "Epoch 143/200\n",
      "5816/5816 [==============================] - 0s 45us/sample - loss: 332.1330 - val_loss: 58.0477\n",
      "Epoch 144/200\n",
      "5816/5816 [==============================] - 0s 61us/sample - loss: 331.5962 - val_loss: 58.3424\n",
      "Epoch 145/200\n",
      "5816/5816 [==============================] - 0s 50us/sample - loss: 334.0065 - val_loss: 47.8831\n",
      "Epoch 146/200\n",
      "5816/5816 [==============================] - 0s 55us/sample - loss: 324.1728 - val_loss: 74.0252\n",
      "Epoch 147/200\n",
      "5816/5816 [==============================] - 0s 51us/sample - loss: 332.4950 - val_loss: 68.2882\n",
      "Epoch 148/200\n"
     ]
    },
    {
     "name": "stdout",
     "output_type": "stream",
     "text": [
      "5816/5816 [==============================] - 0s 50us/sample - loss: 324.8343 - val_loss: 42.3511\n",
      "Epoch 149/200\n",
      "5816/5816 [==============================] - 0s 46us/sample - loss: 331.2594 - val_loss: 56.7376\n",
      "Epoch 150/200\n",
      "5816/5816 [==============================] - 0s 47us/sample - loss: 329.2782 - val_loss: 43.3737\n",
      "Epoch 151/200\n",
      "5816/5816 [==============================] - 0s 43us/sample - loss: 321.6456 - val_loss: 45.4461\n",
      "Epoch 152/200\n",
      "5816/5816 [==============================] - 0s 46us/sample - loss: 318.0801 - val_loss: 69.3319\n",
      "Epoch 153/200\n",
      "5816/5816 [==============================] - 0s 66us/sample - loss: 326.3907 - val_loss: 72.6214\n",
      "Epoch 154/200\n",
      "5816/5816 [==============================] - 0s 48us/sample - loss: 302.7081 - val_loss: 69.3453\n",
      "Epoch 155/200\n",
      "5816/5816 [==============================] - 0s 50us/sample - loss: 317.1936 - val_loss: 54.6389\n",
      "Epoch 156/200\n",
      "5816/5816 [==============================] - 0s 51us/sample - loss: 321.7878 - val_loss: 55.0154\n",
      "Epoch 157/200\n",
      "5816/5816 [==============================] - 0s 46us/sample - loss: 322.9815 - val_loss: 64.7519\n",
      "Epoch 158/200\n",
      "5816/5816 [==============================] - 0s 45us/sample - loss: 312.5885 - val_loss: 60.2935\n",
      "Epoch 159/200\n",
      "5816/5816 [==============================] - 0s 47us/sample - loss: 310.9167 - val_loss: 55.3865\n",
      "Epoch 160/200\n",
      "5816/5816 [==============================] - 0s 54us/sample - loss: 313.3385 - val_loss: 78.2510\n",
      "Epoch 161/200\n",
      "5816/5816 [==============================] - 0s 57us/sample - loss: 312.5341 - val_loss: 52.8602\n",
      "Epoch 162/200\n",
      "5816/5816 [==============================] - 0s 53us/sample - loss: 316.6018 - val_loss: 41.5701\n",
      "Epoch 163/200\n",
      "5816/5816 [==============================] - 0s 48us/sample - loss: 303.0284 - val_loss: 65.1286\n",
      "Epoch 164/200\n",
      "5816/5816 [==============================] - 0s 44us/sample - loss: 310.6890 - val_loss: 43.4142\n",
      "Epoch 165/200\n",
      "5816/5816 [==============================] - 0s 51us/sample - loss: 317.5552 - val_loss: 39.5104\n",
      "Epoch 166/200\n",
      "5816/5816 [==============================] - 0s 50us/sample - loss: 319.5266 - val_loss: 45.0410\n",
      "Epoch 167/200\n",
      "5816/5816 [==============================] - 0s 60us/sample - loss: 298.8124 - val_loss: 49.4873\n",
      "Epoch 168/200\n",
      "5816/5816 [==============================] - 0s 52us/sample - loss: 308.0539 - val_loss: 70.2045\n",
      "Epoch 169/200\n",
      "5816/5816 [==============================] - 0s 60us/sample - loss: 312.4764 - val_loss: 40.3258\n",
      "Epoch 170/200\n",
      "5816/5816 [==============================] - 0s 47us/sample - loss: 311.9122 - val_loss: 59.3278\n",
      "Epoch 171/200\n",
      "5816/5816 [==============================] - 0s 47us/sample - loss: 311.2790 - val_loss: 89.6248\n",
      "Epoch 172/200\n",
      "5816/5816 [==============================] - 0s 49us/sample - loss: 310.4809 - val_loss: 59.4301\n",
      "Epoch 173/200\n",
      "5816/5816 [==============================] - 0s 59us/sample - loss: 304.8830 - val_loss: 45.3402\n",
      "Epoch 174/200\n",
      "5816/5816 [==============================] - 0s 58us/sample - loss: 300.9244 - val_loss: 46.0348\n",
      "Epoch 175/200\n",
      "5816/5816 [==============================] - 0s 56us/sample - loss: 304.2434 - val_loss: 44.6866\n",
      "Epoch 176/200\n",
      "5816/5816 [==============================] - 0s 47us/sample - loss: 306.3954 - val_loss: 51.3402\n",
      "Epoch 177/200\n",
      "5816/5816 [==============================] - 0s 46us/sample - loss: 290.5608 - val_loss: 55.2809\n",
      "Epoch 178/200\n",
      "5816/5816 [==============================] - 0s 52us/sample - loss: 272.4788 - val_loss: 67.1485\n",
      "Epoch 179/200\n",
      "5816/5816 [==============================] - 0s 49us/sample - loss: 286.4102 - val_loss: 50.2468\n",
      "Epoch 180/200\n",
      "5816/5816 [==============================] - 0s 46us/sample - loss: 305.1788 - val_loss: 57.7780\n",
      "Epoch 181/200\n",
      "5816/5816 [==============================] - 0s 55us/sample - loss: 296.8987 - val_loss: 47.6544\n",
      "Epoch 182/200\n",
      "5816/5816 [==============================] - 0s 51us/sample - loss: 302.2880 - val_loss: 50.9876\n",
      "Epoch 183/200\n",
      "5816/5816 [==============================] - 0s 63us/sample - loss: 291.7857 - val_loss: 44.5789\n",
      "Epoch 184/200\n",
      "5816/5816 [==============================] - 0s 55us/sample - loss: 304.6837 - val_loss: 43.3237\n",
      "Epoch 185/200\n",
      "5816/5816 [==============================] - 0s 60us/sample - loss: 284.7582 - val_loss: 46.8085\n",
      "Epoch 186/200\n",
      "5816/5816 [==============================] - 0s 46us/sample - loss: 286.7722 - val_loss: 62.8417\n",
      "Epoch 187/200\n",
      "5816/5816 [==============================] - 0s 53us/sample - loss: 290.5247 - val_loss: 53.3743\n",
      "Epoch 188/200\n",
      "5816/5816 [==============================] - 0s 51us/sample - loss: 291.2895 - val_loss: 64.9502\n",
      "Epoch 189/200\n",
      "5816/5816 [==============================] - 0s 47us/sample - loss: 294.0611 - val_loss: 44.4538\n",
      "Epoch 190/200\n",
      "5816/5816 [==============================] - 0s 49us/sample - loss: 286.3522 - val_loss: 60.8739\n",
      "Epoch 191/200\n",
      "5816/5816 [==============================] - 0s 55us/sample - loss: 283.3659 - val_loss: 74.1012\n",
      "Epoch 192/200\n",
      "5816/5816 [==============================] - 0s 51us/sample - loss: 283.2458 - val_loss: 58.4031\n",
      "Epoch 193/200\n",
      "5816/5816 [==============================] - 0s 55us/sample - loss: 271.0752 - val_loss: 38.3745\n",
      "Epoch 194/200\n",
      "5816/5816 [==============================] - 0s 59us/sample - loss: 289.3494 - val_loss: 68.0271\n",
      "Epoch 195/200\n",
      "5816/5816 [==============================] - 0s 68us/sample - loss: 293.7782 - val_loss: 40.1791\n",
      "Epoch 196/200\n",
      "5816/5816 [==============================] - 0s 49us/sample - loss: 284.4942 - val_loss: 43.5153\n",
      "Epoch 197/200\n",
      "5816/5816 [==============================] - 0s 45us/sample - loss: 285.5607 - val_loss: 74.1234\n",
      "Epoch 198/200\n",
      "5816/5816 [==============================] - 0s 65us/sample - loss: 291.8802 - val_loss: 40.2983\n",
      "Epoch 199/200\n",
      "5816/5816 [==============================] - 0s 47us/sample - loss: 283.9583 - val_loss: 47.8559\n",
      "Epoch 200/200\n",
      "5816/5816 [==============================] - 0s 65us/sample - loss: 275.4544 - val_loss: 42.8403\n"
     ]
    }
   ],
   "source": [
    "hist = model.fit(X_train, y_train,validation_split=0.15,\n",
    "            callbacks=[model_checkpoint],\n",
    "          batch_size=64, epochs=epochs,shuffle=False)\n",
    "model.save(model_file)"
   ]
  },
  {
   "cell_type": "code",
   "execution_count": 56,
   "metadata": {},
   "outputs": [
    {
     "data": {
      "text/plain": [
       "[<matplotlib.lines.Line2D at 0x12f02a910>]"
      ]
     },
     "execution_count": 56,
     "metadata": {},
     "output_type": "execute_result"
    },
    {
     "data": {
      "image/png": "[encoded data removed]",
      "text/plain": [
       "<Figure size 432x288 with 1 Axes>"
      ]
     },
     "metadata": {
      "needs_background": "light"
     },
     "output_type": "display_data"
    }
   ],
   "source": [
    "plt.plot(hist.history['loss'])\n",
    "plt.plot(hist.history['val_loss'])"
   ]
  },
  {
   "cell_type": "code",
   "execution_count": 57,
   "metadata": {},
   "outputs": [
    {
     "data": {
      "text/plain": [
       "array([[89.49413 ],\n",
       "       [72.38997 ],\n",
       "       [87.58619 ],\n",
       "       ...,\n",
       "       [86.096085],\n",
       "       [62.294334],\n",
       "       [68.28496 ]], dtype=float32)"
      ]
     },
     "execution_count": 57,
     "metadata": {},
     "output_type": "execute_result"
    }
   ],
   "source": [
    "predicted_value = model.predict(X_test)\n",
    "predicted_value"
   ]
  },
  {
   "cell_type": "code",
   "execution_count": 58,
   "metadata": {
    "scrolled": false
   },
   "outputs": [
    {
     "data": {
      "text/plain": [
       "array([[94.61],\n",
       "       [76.22],\n",
       "       [94.86],\n",
       "       ...,\n",
       "       [86.  ],\n",
       "       [59.08],\n",
       "       [70.79]])"
      ]
     },
     "execution_count": 58,
     "metadata": {},
     "output_type": "execute_result"
    }
   ],
   "source": [
    "y_test"
   ]
  },
  {
   "cell_type": "code",
   "execution_count": 59,
   "metadata": {},
   "outputs": [
    {
     "data": {
      "image/png": "[encoded data removed]",
      "text/plain": [
       "<Figure size 432x288 with 1 Axes>"
      ]
     },
     "metadata": {
      "needs_background": "light"
     },
     "output_type": "display_data"
    }
   ],
   "source": [
    "plt.plot(range(len(y_test)),y_test)\n",
    "plt.plot(range(len(predicted_value)),predicted_value)\n",
    "plt.show()"
   ]
  },
  {
   "cell_type": "code",
   "execution_count": null,
   "metadata": {},
   "outputs": [],
   "source": []
  },
  {
   "cell_type": "code",
   "execution_count": null,
   "metadata": {},
   "outputs": [],
   "source": []
  }
 ],
 "metadata": {
  "kernelspec": {
   "display_name": "Python 3",
   "language": "python",
   "name": "python3"
  },
  "language_info": {
   "codemirror_mode": {
    "name": "ipython",
    "version": 3
   },
   "file_extension": ".py",
   "mimetype": "text/x-python",
   "name": "python",
   "nbconvert_exporter": "python",
   "pygments_lexer": "ipython3",
   "version": "3.7.6"
  }
 },
 "nbformat": 4,
 "nbformat_minor": 4
}
